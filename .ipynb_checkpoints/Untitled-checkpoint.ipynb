{
 "cells": [
  {
   "cell_type": "code",
   "execution_count": 1,
   "id": "a91a7fa7",
   "metadata": {},
   "outputs": [],
   "source": [
    "import numpy as np\n",
    "import tensorflow as tf\n",
    "#for processing images\n",
    "from keras.preprocessing.image import ImageDataGenerator\n"
   ]
  },
  {
   "cell_type": "code",
   "execution_count": null,
   "id": "e4c0456f",
   "metadata": {},
   "outputs": [],
   "source": [
    "#data preprocessing\n",
    "#training image processing"
   ]
  },
  {
   "cell_type": "code",
   "execution_count": 2,
   "id": "512435c5",
   "metadata": {},
   "outputs": [
    {
     "name": "stdout",
     "output_type": "stream",
     "text": [
      "Found 3961 images belonging to 5 classes.\n"
     ]
    }
   ],
   "source": [
    "\n",
    "train_datagen = ImageDataGenerator(\n",
    "        rescale=1./255,\n",
    "        shear_range=0.2,\n",
    "        zoom_range=0.2,\n",
    "        horizontal_flip=True)\n",
    "training_set = train_datagen.flow_from_directory(\n",
    "        'flowers/train',\n",
    "        target_size=(64, 64),\n",
    "        batch_size=32,\n",
    "        class_mode='categorical')"
   ]
  },
  {
   "cell_type": "code",
   "execution_count": 3,
   "id": "71be6f5c",
   "metadata": {},
   "outputs": [
    {
     "name": "stdout",
     "output_type": "stream",
     "text": [
      "Found 356 images belonging to 5 classes.\n"
     ]
    }
   ],
   "source": [
    "test_datagen = ImageDataGenerator(rescale=1./255)\n",
    "test_set = test_datagen.flow_from_directory(\n",
    "        'flowers/test',\n",
    "        target_size=(64, 64),\n",
    "        batch_size=32,\n",
    "        class_mode='categorical')"
   ]
  },
  {
   "cell_type": "code",
   "execution_count": null,
   "id": "2f872a07",
   "metadata": {},
   "outputs": [],
   "source": [
    "#building model"
   ]
  },
  {
   "cell_type": "code",
   "execution_count": 4,
   "id": "1e0c8d5b",
   "metadata": {},
   "outputs": [],
   "source": [
    "cnn = tf.keras.models.Sequential()\n"
   ]
  },
  {
   "cell_type": "code",
   "execution_count": null,
   "id": "563697a3",
   "metadata": {},
   "outputs": [],
   "source": [
    "#building convultion layers"
   ]
  },
  {
   "cell_type": "code",
   "execution_count": 5,
   "id": "e5e933ce",
   "metadata": {},
   "outputs": [],
   "source": [
    "\n",
    "cnn.add(tf.keras.layers.Conv2D(filters=64 , kernel_size=5, activation='relu' , input_shape=[64,64,3]))\n",
    "cnn.add(tf.keras.layers.MaxPool2D(pool_size=2,strides=2))\n"
   ]
  },
  {
   "cell_type": "code",
   "execution_count": 6,
   "id": "5a25b0b5",
   "metadata": {},
   "outputs": [],
   "source": [
    "cnn.add(tf.keras.layers.Conv2D(filters=64 , kernel_size=3 , activation='relu' ))\n",
    "cnn.add(tf.keras.layers.MaxPool2D(pool_size=2 , strides=2))\n"
   ]
  },
  {
   "cell_type": "code",
   "execution_count": 7,
   "id": "2539b110",
   "metadata": {},
   "outputs": [],
   "source": [
    "# cnn.add(tf.keras.layers.Conv2D(filters=128 , kernel_size=3 , activation='relu' , input_shape=[64,64,3]))\n",
    "# cnn.add(tf.keras.layers.MaxPool2D(pool_size=2,strides=2))"
   ]
  },
  {
   "cell_type": "code",
   "execution_count": 10,
   "id": "656e90ce",
   "metadata": {},
   "outputs": [],
   "source": [
    "# cnn.add(tf.keras.layers.Conv2D(filters=128 , kernel_size=3 , activation='relu' ))\n",
    "# # cnn.add(tf.keras.layers.MaxPool2D(pool_size=2 , strides=2))"
   ]
  },
  {
   "cell_type": "code",
   "execution_count": 8,
   "id": "19c202fa",
   "metadata": {},
   "outputs": [],
   "source": [
    "cnn.add(tf.keras.layers.Dropout(0.5))\n",
    "cnn.add(tf.keras.layers.Flatten())\n",
    "#hidden layers units is number of hidden layers\n",
    "cnn.add(tf.keras.layers.Dense(units=128, activation='relu'))"
   ]
  },
  {
   "cell_type": "code",
   "execution_count": 9,
   "id": "79943b92",
   "metadata": {},
   "outputs": [],
   "source": [
    "#ouput layer\n",
    "#we have 5 category activation is sigmoid if two values 0 and 1\n",
    "cnn.add(tf.keras.layers.Dense(units=5 , activation='softmax'))\n"
   ]
  },
  {
   "cell_type": "code",
   "execution_count": 10,
   "id": "ee5caeae",
   "metadata": {},
   "outputs": [],
   "source": [
    "#for categorical rmsprop is good, adam for binary\n",
    "cnn.compile(optimizer = 'rmsprop' , loss = 'categorical_crossentropy' , metrics = ['accuracy'])"
   ]
  },
  {
   "cell_type": "code",
   "execution_count": 11,
   "id": "ec10c20c",
   "metadata": {
    "scrolled": true
   },
   "outputs": [
    {
     "name": "stdout",
     "output_type": "stream",
     "text": [
      "Epoch 1/30\n",
      "124/124 [==============================] - 68s 536ms/step - loss: 1.4210 - accuracy: 0.4057 - val_loss: 1.1161 - val_accuracy: 0.5393\n",
      "Epoch 2/30\n",
      "124/124 [==============================] - 24s 191ms/step - loss: 1.1601 - accuracy: 0.5415 - val_loss: 1.0734 - val_accuracy: 0.5562\n",
      "Epoch 3/30\n",
      "124/124 [==============================] - 23s 185ms/step - loss: 1.0520 - accuracy: 0.5915 - val_loss: 0.9207 - val_accuracy: 0.6657\n",
      "Epoch 4/30\n",
      "124/124 [==============================] - 23s 188ms/step - loss: 0.9692 - accuracy: 0.6203 - val_loss: 0.9968 - val_accuracy: 0.6264\n",
      "Epoch 5/30\n",
      "124/124 [==============================] - 23s 187ms/step - loss: 0.9336 - accuracy: 0.6498 - val_loss: 0.9075 - val_accuracy: 0.6489\n",
      "Epoch 6/30\n",
      "124/124 [==============================] - 24s 192ms/step - loss: 0.8785 - accuracy: 0.6662 - val_loss: 0.8272 - val_accuracy: 0.7079\n",
      "Epoch 7/30\n",
      "124/124 [==============================] - 25s 198ms/step - loss: 0.8473 - accuracy: 0.6779 - val_loss: 0.8069 - val_accuracy: 0.7163\n",
      "Epoch 8/30\n",
      "124/124 [==============================] - 23s 188ms/step - loss: 0.8078 - accuracy: 0.6935 - val_loss: 0.8641 - val_accuracy: 0.6826\n",
      "Epoch 9/30\n",
      "124/124 [==============================] - 23s 186ms/step - loss: 0.7865 - accuracy: 0.7023 - val_loss: 0.8784 - val_accuracy: 0.6938\n",
      "Epoch 10/30\n",
      "124/124 [==============================] - 23s 186ms/step - loss: 0.7670 - accuracy: 0.7135 - val_loss: 0.8111 - val_accuracy: 0.6770\n",
      "Epoch 11/30\n",
      "124/124 [==============================] - 23s 188ms/step - loss: 0.7462 - accuracy: 0.7162 - val_loss: 0.8412 - val_accuracy: 0.6966\n",
      "Epoch 12/30\n",
      "124/124 [==============================] - 23s 189ms/step - loss: 0.7285 - accuracy: 0.7198 - val_loss: 0.8438 - val_accuracy: 0.7107\n",
      "Epoch 13/30\n",
      "124/124 [==============================] - 26s 206ms/step - loss: 0.6914 - accuracy: 0.7425 - val_loss: 0.8047 - val_accuracy: 0.7135\n",
      "Epoch 14/30\n",
      "124/124 [==============================] - 26s 213ms/step - loss: 0.6944 - accuracy: 0.7415 - val_loss: 0.8461 - val_accuracy: 0.7163\n",
      "Epoch 15/30\n",
      "124/124 [==============================] - 24s 197ms/step - loss: 0.6626 - accuracy: 0.7506 - val_loss: 0.8667 - val_accuracy: 0.6938\n",
      "Epoch 16/30\n",
      "124/124 [==============================] - 24s 195ms/step - loss: 0.6651 - accuracy: 0.7581 - val_loss: 0.8179 - val_accuracy: 0.7331\n",
      "Epoch 17/30\n",
      "124/124 [==============================] - 25s 200ms/step - loss: 0.6538 - accuracy: 0.7561 - val_loss: 0.8123 - val_accuracy: 0.7163\n",
      "Epoch 18/30\n",
      "124/124 [==============================] - 24s 193ms/step - loss: 0.6182 - accuracy: 0.7738 - val_loss: 0.9386 - val_accuracy: 0.6685\n",
      "Epoch 19/30\n",
      "124/124 [==============================] - 24s 194ms/step - loss: 0.6243 - accuracy: 0.7730 - val_loss: 0.8231 - val_accuracy: 0.6938\n",
      "Epoch 20/30\n",
      "124/124 [==============================] - 24s 191ms/step - loss: 0.6000 - accuracy: 0.7730 - val_loss: 0.8957 - val_accuracy: 0.6938\n",
      "Epoch 21/30\n",
      "124/124 [==============================] - 24s 190ms/step - loss: 0.5929 - accuracy: 0.7829 - val_loss: 0.8444 - val_accuracy: 0.7275\n",
      "Epoch 22/30\n",
      "124/124 [==============================] - 24s 196ms/step - loss: 0.5818 - accuracy: 0.7857 - val_loss: 0.9253 - val_accuracy: 0.6994\n",
      "Epoch 23/30\n",
      "124/124 [==============================] - 24s 192ms/step - loss: 0.5634 - accuracy: 0.7950 - val_loss: 0.9013 - val_accuracy: 0.7135\n",
      "Epoch 24/30\n",
      "124/124 [==============================] - 24s 191ms/step - loss: 0.5657 - accuracy: 0.7905 - val_loss: 0.9046 - val_accuracy: 0.6854\n",
      "Epoch 25/30\n",
      "124/124 [==============================] - 24s 191ms/step - loss: 0.5414 - accuracy: 0.8031 - val_loss: 0.9324 - val_accuracy: 0.7022\n",
      "Epoch 26/30\n",
      "124/124 [==============================] - 24s 192ms/step - loss: 0.5447 - accuracy: 0.8076 - val_loss: 0.8352 - val_accuracy: 0.7360\n",
      "Epoch 27/30\n",
      "124/124 [==============================] - 24s 191ms/step - loss: 0.5192 - accuracy: 0.8056 - val_loss: 0.8079 - val_accuracy: 0.7079\n",
      "Epoch 28/30\n",
      "124/124 [==============================] - 24s 193ms/step - loss: 0.5151 - accuracy: 0.8139 - val_loss: 0.8595 - val_accuracy: 0.7051\n",
      "Epoch 29/30\n",
      "124/124 [==============================] - 24s 194ms/step - loss: 0.5117 - accuracy: 0.8162 - val_loss: 0.8171 - val_accuracy: 0.7022\n",
      "Epoch 30/30\n",
      "124/124 [==============================] - 24s 192ms/step - loss: 0.5047 - accuracy: 0.8258 - val_loss: 0.9289 - val_accuracy: 0.7079\n"
     ]
    },
    {
     "data": {
      "text/plain": [
       "<keras.callbacks.History at 0x25045857f70>"
      ]
     },
     "execution_count": 11,
     "metadata": {},
     "output_type": "execute_result"
    }
   ],
   "source": [
    "#epochs:number of loops to increase accuracy\n",
    "cnn.fit(x = training_set , validation_data = test_set , epochs = 30)"
   ]
  },
  {
   "cell_type": "code",
   "execution_count": 62,
   "id": "26d37f78",
   "metadata": {},
   "outputs": [],
   "source": [
    "# prepocess new image\n",
    "from PIL import Image\n",
    "im=Image.open(r\"flowers/Prediction/rose1.jpg\")\n",
    "im.show()\n"
   ]
  },
  {
   "cell_type": "code",
   "execution_count": 66,
   "id": "d6e3b96a",
   "metadata": {},
   "outputs": [
    {
     "name": "stdout",
     "output_type": "stream",
     "text": [
      "1/1 [==============================] - 0s 20ms/step\n"
     ]
    },
    {
     "data": {
      "text/plain": [
       "{'daisy': 0, 'dandelion': 1, 'rose': 2, 'sunflower': 3, 'tulip': 4}"
      ]
     },
     "execution_count": 66,
     "metadata": {},
     "output_type": "execute_result"
    }
   ],
   "source": [
    "from keras.preprocessing import image\n",
    "#from tensorflow.keras.preprocessing import image\n",
    "#tf.keras.utils.load_img\n",
    "test_image = tf.keras.utils.load_img('flowers/Prediction/rose1.jpg',target_size=(64,64))\n",
    "test_image = tf.keras.utils.img_to_array(test_image)\n",
    "test_image = np.expand_dims(test_image,axis=0)\n",
    "result = cnn.predict(test_image)\n",
    "training_set.class_indices"
   ]
  },
  {
   "cell_type": "code",
   "execution_count": 67,
   "id": "f73988b3",
   "metadata": {},
   "outputs": [
    {
     "name": "stdout",
     "output_type": "stream",
     "text": [
      "Rose\n"
     ]
    }
   ],
   "source": [
    "if result[0][0]==1:\n",
    "    print('Daisy')\n",
    "elif result[0][1]==1:\n",
    "    print('Dandelion')\n",
    "elif result[0][2]==1:\n",
    "    print('Rose')\n",
    "elif result[0][3]==1:\n",
    "    print('SunFlower')\n",
    "elif result[0][4]==1:\n",
    "    print(\"Tulip\")"
   ]
  },
  {
   "cell_type": "code",
   "execution_count": 68,
   "id": "c633f2c3",
   "metadata": {},
   "outputs": [
    {
     "name": "stdout",
     "output_type": "stream",
     "text": [
      "[[0. 0. 1. 0. 0.]]\n"
     ]
    }
   ],
   "source": [
    "print(result)\n"
   ]
  }
 ],
 "metadata": {
  "kernelspec": {
   "display_name": "Python 3 (ipykernel)",
   "language": "python",
   "name": "python3"
  },
  "language_info": {
   "codemirror_mode": {
    "name": "ipython",
    "version": 3
   },
   "file_extension": ".py",
   "mimetype": "text/x-python",
   "name": "python",
   "nbconvert_exporter": "python",
   "pygments_lexer": "ipython3",
   "version": "3.9.12"
  }
 },
 "nbformat": 4,
 "nbformat_minor": 5
}
