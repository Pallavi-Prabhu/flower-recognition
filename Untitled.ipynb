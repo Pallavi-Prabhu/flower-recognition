{
 "cells": [
  {
   "cell_type": "code",
   "execution_count": 5,
   "id": "a91a7fa7",
   "metadata": {},
   "outputs": [],
   "source": [
    "import numpy as np #to work with arrays\n",
    "import tensorflow as tf #for image recognition\n",
    "#for processing images\n",
    "from keras.preprocessing.image import ImageDataGenerator\n"
   ]
  },
  {
   "cell_type": "code",
   "execution_count": 6,
   "id": "e4c0456f",
   "metadata": {},
   "outputs": [],
   "source": [
    "#data preprocessing\n",
    "#training image processing"
   ]
  },
  {
   "cell_type": "code",
   "execution_count": 7,
   "id": "512435c5",
   "metadata": {},
   "outputs": [
    {
     "name": "stdout",
     "output_type": "stream",
     "text": [
      "Found 3961 images belonging to 5 classes.\n"
     ]
    }
   ],
   "source": [
    "\n",
    "train_datagen = ImageDataGenerator(\n",
    "        rescale=1./255,\n",
    "        shear_range=0.2,\n",
    "        zoom_range=0.2,\n",
    "        horizontal_flip=True)\n",
    "training_set = train_datagen.flow_from_directory(\n",
    "        'flowers/train',\n",
    "        target_size=(64, 64),\n",
    "        batch_size=32,\n",
    "        class_mode='categorical')"
   ]
  },
  {
   "cell_type": "code",
   "execution_count": 8,
   "id": "71be6f5c",
   "metadata": {},
   "outputs": [
    {
     "name": "stdout",
     "output_type": "stream",
     "text": [
      "Found 356 images belonging to 5 classes.\n"
     ]
    }
   ],
   "source": [
    "test_datagen = ImageDataGenerator(rescale=1./255)\n",
    "test_set = test_datagen.flow_from_directory(\n",
    "        'flowers/test',\n",
    "        target_size=(64, 64),\n",
    "        batch_size=32,\n",
    "        class_mode='categorical')"
   ]
  },
  {
   "cell_type": "code",
   "execution_count": 9,
   "id": "2f872a07",
   "metadata": {},
   "outputs": [],
   "source": [
    "#building model"
   ]
  },
  {
   "cell_type": "code",
   "execution_count": 10,
   "id": "1e0c8d5b",
   "metadata": {},
   "outputs": [],
   "source": [
    "cnn = tf.keras.models.Sequential() #linear stack for layers\n"
   ]
  },
  {
   "cell_type": "code",
   "execution_count": 11,
   "id": "563697a3",
   "metadata": {},
   "outputs": [],
   "source": [
    "#building convultion layers"
   ]
  },
  {
   "cell_type": "code",
   "execution_count": 12,
   "id": "e5e933ce",
   "metadata": {},
   "outputs": [],
   "source": [
    "#kernel-no of channels in o/p\n",
    "#rectified linear activation for faster and more effective \n",
    "#training by mapping negative values to zero and maintaining positive values.\n",
    "cnn.add(tf.keras.layers.Conv2D(filters=64 , kernel_size=5, activation='relu' , input_shape=[64,64,3]))\n",
    "cnn.add(tf.keras.layers.MaxPool2D(pool_size=2,strides=2))\n"
   ]
  },
  {
   "cell_type": "code",
   "execution_count": 13,
   "id": "5a25b0b5",
   "metadata": {},
   "outputs": [],
   "source": [
    "cnn.add(tf.keras.layers.Conv2D(filters=64 , kernel_size=3 , activation='relu' ))\n",
    "cnn.add(tf.keras.layers.MaxPool2D(pool_size=2 , strides=2))\n",
    "#after pooling we get 3*3 matrix, we flatten dat matrix to 9*1 matrix\n"
   ]
  },
  {
   "cell_type": "code",
   "execution_count": 14,
   "id": "19c202fa",
   "metadata": {},
   "outputs": [],
   "source": [
    "cnn.add(tf.keras.layers.Dropout(0.5))\n",
    "cnn.add(tf.keras.layers.Flatten())\n",
    "#hidden layers units is number of hidden layers\n",
    "cnn.add(tf.keras.layers.Dense(units=128, activation='relu'))"
   ]
  },
  {
   "cell_type": "code",
   "execution_count": 15,
   "id": "79943b92",
   "metadata": {},
   "outputs": [],
   "source": [
    "#ouput layer\n",
    "#we have 5 category activation is sigmoid if two values 0 and 1\n",
    "cnn.add(tf.keras.layers.Dense(units=5 , activation='softmax'))\n"
   ]
  },
  {
   "cell_type": "code",
   "execution_count": 16,
   "id": "ee5caeae",
   "metadata": {},
   "outputs": [],
   "source": [
    "#for categorical rmsprop is good, adam for binary\n",
    "cnn.compile(optimizer = 'rmsprop' , loss = 'categorical_crossentropy' , metrics = ['accuracy'])"
   ]
  },
  {
   "cell_type": "code",
   "execution_count": 17,
   "id": "ec10c20c",
   "metadata": {
    "scrolled": true
   },
   "outputs": [
    {
     "name": "stdout",
     "output_type": "stream",
     "text": [
      "Epoch 1/30\n",
      "124/124 [==============================] - 65s 508ms/step - loss: 1.3911 - accuracy: 0.4214 - val_loss: 1.2043 - val_accuracy: 0.5056\n",
      "Epoch 2/30\n",
      "124/124 [==============================] - 27s 219ms/step - loss: 1.1412 - accuracy: 0.5463 - val_loss: 1.0049 - val_accuracy: 0.5983\n",
      "Epoch 3/30\n",
      "124/124 [==============================] - 25s 203ms/step - loss: 1.0606 - accuracy: 0.5857 - val_loss: 0.9611 - val_accuracy: 0.6096\n",
      "Epoch 4/30\n",
      "124/124 [==============================] - 25s 201ms/step - loss: 0.9792 - accuracy: 0.6206 - val_loss: 0.9404 - val_accuracy: 0.6517\n",
      "Epoch 5/30\n",
      "124/124 [==============================] - 25s 201ms/step - loss: 0.9157 - accuracy: 0.6488 - val_loss: 0.8291 - val_accuracy: 0.7051\n",
      "Epoch 6/30\n",
      "124/124 [==============================] - 25s 198ms/step - loss: 0.8866 - accuracy: 0.6607 - val_loss: 0.8593 - val_accuracy: 0.6657\n",
      "Epoch 7/30\n",
      "124/124 [==============================] - 30s 241ms/step - loss: 0.8505 - accuracy: 0.6776 - val_loss: 0.8523 - val_accuracy: 0.6854\n",
      "Epoch 8/30\n",
      "124/124 [==============================] - 28s 226ms/step - loss: 0.8136 - accuracy: 0.6948 - val_loss: 0.9303 - val_accuracy: 0.6545\n",
      "Epoch 9/30\n",
      "124/124 [==============================] - 25s 202ms/step - loss: 0.7796 - accuracy: 0.7104 - val_loss: 0.8374 - val_accuracy: 0.6798\n",
      "Epoch 10/30\n",
      "124/124 [==============================] - 27s 218ms/step - loss: 0.7758 - accuracy: 0.7026 - val_loss: 0.8161 - val_accuracy: 0.7022\n",
      "Epoch 11/30\n",
      "124/124 [==============================] - 28s 225ms/step - loss: 0.7322 - accuracy: 0.7278 - val_loss: 0.9902 - val_accuracy: 0.6208\n",
      "Epoch 12/30\n",
      "124/124 [==============================] - 25s 204ms/step - loss: 0.7307 - accuracy: 0.7200 - val_loss: 0.8406 - val_accuracy: 0.6489\n",
      "Epoch 13/30\n",
      "124/124 [==============================] - 25s 199ms/step - loss: 0.7057 - accuracy: 0.7349 - val_loss: 0.8403 - val_accuracy: 0.7163\n",
      "Epoch 14/30\n",
      "124/124 [==============================] - 24s 196ms/step - loss: 0.7080 - accuracy: 0.7334 - val_loss: 0.8036 - val_accuracy: 0.6798\n",
      "Epoch 15/30\n",
      "124/124 [==============================] - 25s 201ms/step - loss: 0.6954 - accuracy: 0.7367 - val_loss: 0.7573 - val_accuracy: 0.6994\n",
      "Epoch 16/30\n",
      "124/124 [==============================] - 25s 197ms/step - loss: 0.6611 - accuracy: 0.7536 - val_loss: 0.7432 - val_accuracy: 0.7416\n",
      "Epoch 17/30\n",
      "124/124 [==============================] - 24s 195ms/step - loss: 0.6458 - accuracy: 0.7549 - val_loss: 0.8458 - val_accuracy: 0.7051\n",
      "Epoch 18/30\n",
      "124/124 [==============================] - 24s 197ms/step - loss: 0.6519 - accuracy: 0.7670 - val_loss: 0.9346 - val_accuracy: 0.6376\n",
      "Epoch 19/30\n",
      "124/124 [==============================] - 24s 195ms/step - loss: 0.6617 - accuracy: 0.7599 - val_loss: 0.7782 - val_accuracy: 0.7135\n",
      "Epoch 20/30\n",
      "124/124 [==============================] - 24s 193ms/step - loss: 0.5989 - accuracy: 0.7761 - val_loss: 0.9208 - val_accuracy: 0.6713\n",
      "Epoch 21/30\n",
      "124/124 [==============================] - 24s 195ms/step - loss: 0.6116 - accuracy: 0.7771 - val_loss: 0.7901 - val_accuracy: 0.7191\n",
      "Epoch 22/30\n",
      "124/124 [==============================] - 25s 199ms/step - loss: 0.5880 - accuracy: 0.7809 - val_loss: 1.0042 - val_accuracy: 0.6826\n",
      "Epoch 23/30\n",
      "124/124 [==============================] - 25s 200ms/step - loss: 0.5846 - accuracy: 0.7834 - val_loss: 0.8143 - val_accuracy: 0.7444\n",
      "Epoch 24/30\n",
      "124/124 [==============================] - 25s 197ms/step - loss: 0.5739 - accuracy: 0.7935 - val_loss: 0.8115 - val_accuracy: 0.7388\n",
      "Epoch 25/30\n",
      "124/124 [==============================] - 24s 196ms/step - loss: 0.5737 - accuracy: 0.7849 - val_loss: 0.8867 - val_accuracy: 0.7360\n",
      "Epoch 26/30\n",
      "124/124 [==============================] - 24s 194ms/step - loss: 0.5510 - accuracy: 0.8013 - val_loss: 0.8457 - val_accuracy: 0.7303\n",
      "Epoch 27/30\n",
      "124/124 [==============================] - 24s 190ms/step - loss: 0.5474 - accuracy: 0.8016 - val_loss: 1.1648 - val_accuracy: 0.6601\n",
      "Epoch 28/30\n",
      "124/124 [==============================] - 24s 191ms/step - loss: 0.5413 - accuracy: 0.8056 - val_loss: 0.7633 - val_accuracy: 0.7444\n",
      "Epoch 29/30\n",
      "124/124 [==============================] - 25s 203ms/step - loss: 0.5377 - accuracy: 0.8028 - val_loss: 0.8751 - val_accuracy: 0.7079\n",
      "Epoch 30/30\n",
      "124/124 [==============================] - 41s 333ms/step - loss: 0.5328 - accuracy: 0.8089 - val_loss: 1.0238 - val_accuracy: 0.7219\n"
     ]
    },
    {
     "data": {
      "text/plain": [
       "<keras.callbacks.History at 0x298e5034d00>"
      ]
     },
     "execution_count": 17,
     "metadata": {},
     "output_type": "execute_result"
    }
   ],
   "source": [
    "#epochs:number of loops to increase accuracy\n",
    "cnn.fit(x = training_set , validation_data = test_set , epochs = 30)"
   ]
  },
  {
   "cell_type": "code",
   "execution_count": 30,
   "id": "26d37f78",
   "metadata": {},
   "outputs": [],
   "source": [
    "# prepocess new image\n",
    "from PIL import Image\n",
    "im=Image.open(r\"flowers/Prediction/rose.jpg\")\n",
    "im.show()\n"
   ]
  },
  {
   "cell_type": "code",
   "execution_count": 31,
   "id": "d6e3b96a",
   "metadata": {},
   "outputs": [
    {
     "name": "stdout",
     "output_type": "stream",
     "text": [
      "1/1 [==============================] - 0s 314ms/step\n"
     ]
    },
    {
     "data": {
      "text/plain": [
       "{'daisy': 0, 'dandelion': 1, 'rose': 2, 'sunflower': 3, 'tulip': 4}"
      ]
     },
     "execution_count": 31,
     "metadata": {},
     "output_type": "execute_result"
    }
   ],
   "source": [
    "from keras.preprocessing import image\n",
    "#from tensorflow.keras.preprocessing import image\n",
    "#tf.keras.utils.load_img\n",
    "test_image = tf.keras.utils.load_img('flowers/Prediction/rose.jpg',target_size=(64,64))\n",
    "test_image = tf.keras.utils.img_to_array(test_image)\n",
    "test_image = np.expand_dims(test_image,axis=0)\n",
    "result = cnn.predict(test_image)\n",
    "training_set.class_indices"
   ]
  },
  {
   "cell_type": "code",
   "execution_count": 33,
   "id": "f73988b3",
   "metadata": {},
   "outputs": [
    {
     "name": "stdout",
     "output_type": "stream",
     "text": [
      "Rose\n"
     ]
    }
   ],
   "source": [
    "if result[0][0]==1:\n",
    "    print('Daisy')\n",
    "elif result[0][1]==1:\n",
    "    print('Dandelion')\n",
    "elif result[0][2]==1:\n",
    "    print('Rose')\n",
    "elif result[0][3]==1:\n",
    "    print('SunFlower')\n",
    "elif result[0][4]==1:\n",
    "    print(\"Tulip\")"
   ]
  },
  {
   "cell_type": "code",
   "execution_count": 32,
   "id": "c633f2c3",
   "metadata": {},
   "outputs": [
    {
     "name": "stdout",
     "output_type": "stream",
     "text": [
      "[[0. 0. 1. 0. 0.]]\n"
     ]
    }
   ],
   "source": [
    "print(result)\n"
   ]
  }
 ],
 "metadata": {
  "kernelspec": {
   "display_name": "Python 3 (ipykernel)",
   "language": "python",
   "name": "python3"
  },
  "language_info": {
   "codemirror_mode": {
    "name": "ipython",
    "version": 3
   },
   "file_extension": ".py",
   "mimetype": "text/x-python",
   "name": "python",
   "nbconvert_exporter": "python",
   "pygments_lexer": "ipython3",
   "version": "3.9.12"
  }
 },
 "nbformat": 4,
 "nbformat_minor": 5
}
